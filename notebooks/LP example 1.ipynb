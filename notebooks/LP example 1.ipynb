{
 "cells": [
  {
   "cell_type": "code",
   "execution_count": 54,
   "metadata": {},
   "outputs": [],
   "source": [
    "import numpy as np\n",
    "import matplotlib.pyplot as plt\n",
    "\n",
    "def plot_feasible_space(x_star, y_star): \n",
    "    \"\"\"\n",
    "    x_star: optimum x\n",
    "    y_star: optimum y\n",
    "    \n",
    "    \"\"\"\n",
    "\n",
    "    # plot the feasible region\n",
    "    d = np.linspace(0,4,300)\n",
    "    x,y = np.meshgrid(d,d)\n",
    "    plt.imshow( ((y>=0) & (-x+2*y<=1) & (-x+y<=0) & (4*x+3*y<=12)).astype(int) , \n",
    "                    extent=(x.min(),x.max(),y.min(),y.max()),origin=\"lower\", cmap=\"Greys\", alpha = 0.3);\n",
    "\n",
    "\n",
    "    # plot the lines defining the constraints\n",
    "    x = np.linspace(0, 4, 2000)\n",
    "    y1 = (x*0)\n",
    "    y2 = 1/2 + x/2\n",
    "    y3 = x\n",
    "    y4 = 4-4/3*x\n",
    "\n",
    "    # Make plot\n",
    "    plt.plot(x, 0*np.ones_like(y1))\n",
    "    plt.plot(x, y2, label=r'$-x_1+2x_2 \\leq 1$')\n",
    "    plt.plot(x, y3, label=r'$-x_1+x_2 \\leq 0$')\n",
    "    plt.plot(x, y4, label=r'$4x_1+3x_2 \\leq 12$')\n",
    "    plt.xlim(0,4)\n",
    "    plt.ylim(0,2)\n",
    "    plt.legend(bbox_to_anchor=(1.05, 1), loc=2, borderaxespad=0.)\n",
    "    plt.xlabel(r'$x_1$')\n",
    "    plt.ylabel(r'$x_2$')\n",
    "    plt.scatter(x_star, y_star, lw=5, c='b')\n",
    "    \n",
    "    "
   ]
  },
  {
   "cell_type": "code",
   "execution_count": 55,
   "metadata": {},
   "outputs": [],
   "source": [
    "from pyomo.environ import *\n",
    "\n",
    "# Instantiate the problem\n",
    "model = ConcreteModel()\n",
    "\n",
    "# Create the variables\n",
    "model.x = Var([1, 2], domain=NonNegativeReals)\n",
    "\n",
    "# Create the constraints\n",
    "model.Constraint1 = Constraint(expr=-model.x[1] + 2 * model.x[2] <= 1)\n",
    "model.Constraint2 = Constraint(expr=-model.x[1] + model.x[2] <= 0)\n",
    "model.Constraint3 = Constraint(expr=4*model.x[1] + 3 * model.x[2] <= 12)\n"
   ]
  },
  {
   "cell_type": "code",
   "execution_count": 62,
   "metadata": {
    "scrolled": true
   },
   "outputs": [
    {
     "name": "stdout",
     "output_type": "stream",
     "text": [
      "WARNING: Implicitly replacing the Component attribute OBJ (type=<class\n",
      "    'pyomo.core.base.objective.SimpleObjective'>) on block unknown with a new\n",
      "    Component (type=<class 'pyomo.core.base.objective.SimpleObjective'>). This\n",
      "    is usually indicative of a modelling error. To avoid this warning, use\n",
      "    block.del_component() and block.add_component().\n",
      "Objective = 0.90\n",
      "x[1] = 1.00\n",
      "x[2] = 1.00\n"
     ]
    }
   ],
   "source": [
    "# Create the objective\n",
    "model.OBJ = Objective(sense=maximize, expr=-1.1*model.x[1] + 2 * model.x[2]) \n",
    "\n",
    "# Solve the problem\n",
    "opt = SolverFactory('cplex')\n",
    "opt.solve(model)\n",
    "\n",
    "print(\"Objective = %.2f\" % model.OBJ.expr())\n",
    "\n",
    "# Get the solution\n",
    "print(\"x[1] = %.2f\" % model.x[1].value)\n",
    "print(\"x[2] = %.2f\" % model.x[2].value)"
   ]
  },
  {
   "cell_type": "code",
   "execution_count": 63,
   "metadata": {},
   "outputs": [
    {
     "data": {
      "image/png": "[encoded data removed]",
      "text/plain": [
       "<Figure size 432x288 with 1 Axes>"
      ]
     },
     "metadata": {
      "needs_background": "light"
     },
     "output_type": "display_data"
    }
   ],
   "source": [
    "plot_feasible_space(model.x[1].value, model.x[2].value)"
   ]
  },
  {
   "cell_type": "code",
   "execution_count": null,
   "metadata": {},
   "outputs": [],
   "source": []
  }
 ],
 "metadata": {
  "kernelspec": {
   "display_name": "Python 3.7.4 64-bit ('mlec_simulator': virtualenv)",
   "language": "python",
   "name": "python37464bitmlecsimulatorvirtualenv1bfc1c4f9533419585bbf645213764b8"
  },
  "language_info": {
   "codemirror_mode": {
    "name": "ipython",
    "version": 3
   },
   "file_extension": ".py",
   "mimetype": "text/x-python",
   "name": "python",
   "nbconvert_exporter": "python",
   "pygments_lexer": "ipython3",
   "version": "3.7.4"
  }
 },
 "nbformat": 4,
 "nbformat_minor": 4
}
